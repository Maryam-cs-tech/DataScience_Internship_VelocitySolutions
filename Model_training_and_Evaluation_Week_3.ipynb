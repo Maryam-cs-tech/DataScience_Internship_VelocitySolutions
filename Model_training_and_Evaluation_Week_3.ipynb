{
  "nbformat": 4,
  "nbformat_minor": 0,
  "metadata": {
    "colab": {
      "provenance": []
    },
    "kernelspec": {
      "name": "python3",
      "display_name": "Python 3"
    },
    "language_info": {
      "name": "python"
    }
  },
  "cells": [
    {
      "cell_type": "markdown",
      "source": [
        "#                                   **Medical Cost Predictor**"
      ],
      "metadata": {
        "id": "41_An0TMcq1q"
      }
    },
    {
      "cell_type": "code",
      "execution_count": null,
      "metadata": {
        "id": "SXZroUAfyeAe"
      },
      "outputs": [],
      "source": [
        "import pandas as pd\n",
        "import numpy as np\n",
        "import matplotlib.pyplot as plt\n",
        "import seaborn as sns\n",
        "%matplotlib inline\n",
        "\n",
        "# Optional\n",
        "import warnings\n",
        "warnings.filterwarnings(\"ignore\")"
      ]
    },
    {
      "cell_type": "code",
      "source": [
        "import kagglehub\n",
        "from kagglehub import KaggleDatasetAdapter\n",
        "file_path = \"medical_insurance.csv\"\n",
        "#loading the dataset\n",
        "df = kagglehub.load_dataset(\n",
        "  KaggleDatasetAdapter.PANDAS,\n",
        "  \"imtkaggleteam/health-insurance-dataset\",\n",
        "  file_path,\n",
        ")\n",
        "\n",
        "# Previewing the dataset to confirm load\n",
        "print(\"First 5 records:\")\n",
        "print(df.head())"
      ],
      "metadata": {
        "colab": {
          "base_uri": "https://localhost:8080/"
        },
        "id": "ECqv8dai1q-2",
        "outputId": "2d5b80f3-4ee8-4d03-86b4-010a07a16fb5"
      },
      "execution_count": 3,
      "outputs": [
        {
          "output_type": "stream",
          "name": "stdout",
          "text": [
            "First 5 records:\n",
            "   age  gender   bmi  children discount_eligibility     region  expenses  \\\n",
            "0   19  female  27.9         0                  yes  southwest  16884.92   \n",
            "1   18    male  33.8         1                   no  southeast   1725.55   \n",
            "2   28    male  33.0         3                   no  southeast   4449.46   \n",
            "3   33    male  22.7         0                   no  northwest  21984.47   \n",
            "4   32    male  28.9         0                   no  northwest   3866.86   \n",
            "\n",
            "    premium  \n",
            "0  168.8492  \n",
            "1   17.2555  \n",
            "2   44.4946  \n",
            "3  439.6894  \n",
            "4   77.3372  \n"
          ]
        }
      ]
    },
    {
      "cell_type": "code",
      "source": [
        "print(\"Shape:\", df.shape) #rows,columns"
      ],
      "metadata": {
        "id": "_b9bNLzM0d63",
        "colab": {
          "base_uri": "https://localhost:8080/"
        },
        "outputId": "ee957e7b-915f-4417-fa79-733e936bac23"
      },
      "execution_count": 4,
      "outputs": [
        {
          "output_type": "stream",
          "name": "stdout",
          "text": [
            "Shape: (1338, 8)\n"
          ]
        }
      ]
    },
    {
      "cell_type": "code",
      "source": [
        "df.info()\n"
      ],
      "metadata": {
        "colab": {
          "base_uri": "https://localhost:8080/"
        },
        "id": "ZBSe6Vzc5TCy",
        "outputId": "1de5a597-615e-4629-abcc-282e385e1a38"
      },
      "execution_count": 5,
      "outputs": [
        {
          "output_type": "stream",
          "name": "stdout",
          "text": [
            "<class 'pandas.core.frame.DataFrame'>\n",
            "RangeIndex: 1338 entries, 0 to 1337\n",
            "Data columns (total 8 columns):\n",
            " #   Column                Non-Null Count  Dtype  \n",
            "---  ------                --------------  -----  \n",
            " 0   age                   1338 non-null   int64  \n",
            " 1   gender                1338 non-null   object \n",
            " 2   bmi                   1338 non-null   float64\n",
            " 3   children              1338 non-null   int64  \n",
            " 4   discount_eligibility  1338 non-null   object \n",
            " 5   region                1338 non-null   object \n",
            " 6   expenses              1338 non-null   float64\n",
            " 7   premium               1338 non-null   float64\n",
            "dtypes: float64(3), int64(2), object(3)\n",
            "memory usage: 83.8+ KB\n"
          ]
        }
      ]
    },
    {
      "cell_type": "code",
      "source": [
        "df.describe()"
      ],
      "metadata": {
        "colab": {
          "base_uri": "https://localhost:8080/",
          "height": 300
        },
        "id": "1hfK5eIu5fif",
        "outputId": "7cd6d1cd-f623-44b0-b21a-e40e32fdfd6b"
      },
      "execution_count": 6,
      "outputs": [
        {
          "output_type": "execute_result",
          "data": {
            "text/plain": [
              "               age          bmi     children      expenses      premium\n",
              "count  1338.000000  1338.000000  1338.000000   1338.000000  1338.000000\n",
              "mean     39.207025    30.665471     1.094918  13270.422414   262.874685\n",
              "std      14.049960     6.098382     1.205493  12110.011240   292.532178\n",
              "min      18.000000    16.000000     0.000000   1121.870000    11.218700\n",
              "25%      27.000000    26.300000     0.000000   4740.287500    87.354250\n",
              "50%      39.000000    30.400000     1.000000   9382.030000   174.997400\n",
              "75%      51.000000    34.700000     2.000000  16639.915000   342.908900\n",
              "max      64.000000    53.100000     5.000000  63770.430000  1983.106400"
            ],
            "text/html": [
              "\n",
              "  <div id=\"df-5414e0a4-9ba3-4640-a765-9081fe5a0c4c\" class=\"colab-df-container\">\n",
              "    <div>\n",
              "<style scoped>\n",
              "    .dataframe tbody tr th:only-of-type {\n",
              "        vertical-align: middle;\n",
              "    }\n",
              "\n",
              "    .dataframe tbody tr th {\n",
              "        vertical-align: top;\n",
              "    }\n",
              "\n",
              "    .dataframe thead th {\n",
              "        text-align: right;\n",
              "    }\n",
              "</style>\n",
              "<table border=\"1\" class=\"dataframe\">\n",
              "  <thead>\n",
              "    <tr style=\"text-align: right;\">\n",
              "      <th></th>\n",
              "      <th>age</th>\n",
              "      <th>bmi</th>\n",
              "      <th>children</th>\n",
              "      <th>expenses</th>\n",
              "      <th>premium</th>\n",
              "    </tr>\n",
              "  </thead>\n",
              "  <tbody>\n",
              "    <tr>\n",
              "      <th>count</th>\n",
              "      <td>1338.000000</td>\n",
              "      <td>1338.000000</td>\n",
              "      <td>1338.000000</td>\n",
              "      <td>1338.000000</td>\n",
              "      <td>1338.000000</td>\n",
              "    </tr>\n",
              "    <tr>\n",
              "      <th>mean</th>\n",
              "      <td>39.207025</td>\n",
              "      <td>30.665471</td>\n",
              "      <td>1.094918</td>\n",
              "      <td>13270.422414</td>\n",
              "      <td>262.874685</td>\n",
              "    </tr>\n",
              "    <tr>\n",
              "      <th>std</th>\n",
              "      <td>14.049960</td>\n",
              "      <td>6.098382</td>\n",
              "      <td>1.205493</td>\n",
              "      <td>12110.011240</td>\n",
              "      <td>292.532178</td>\n",
              "    </tr>\n",
              "    <tr>\n",
              "      <th>min</th>\n",
              "      <td>18.000000</td>\n",
              "      <td>16.000000</td>\n",
              "      <td>0.000000</td>\n",
              "      <td>1121.870000</td>\n",
              "      <td>11.218700</td>\n",
              "    </tr>\n",
              "    <tr>\n",
              "      <th>25%</th>\n",
              "      <td>27.000000</td>\n",
              "      <td>26.300000</td>\n",
              "      <td>0.000000</td>\n",
              "      <td>4740.287500</td>\n",
              "      <td>87.354250</td>\n",
              "    </tr>\n",
              "    <tr>\n",
              "      <th>50%</th>\n",
              "      <td>39.000000</td>\n",
              "      <td>30.400000</td>\n",
              "      <td>1.000000</td>\n",
              "      <td>9382.030000</td>\n",
              "      <td>174.997400</td>\n",
              "    </tr>\n",
              "    <tr>\n",
              "      <th>75%</th>\n",
              "      <td>51.000000</td>\n",
              "      <td>34.700000</td>\n",
              "      <td>2.000000</td>\n",
              "      <td>16639.915000</td>\n",
              "      <td>342.908900</td>\n",
              "    </tr>\n",
              "    <tr>\n",
              "      <th>max</th>\n",
              "      <td>64.000000</td>\n",
              "      <td>53.100000</td>\n",
              "      <td>5.000000</td>\n",
              "      <td>63770.430000</td>\n",
              "      <td>1983.106400</td>\n",
              "    </tr>\n",
              "  </tbody>\n",
              "</table>\n",
              "</div>\n",
              "    <div class=\"colab-df-buttons\">\n",
              "\n",
              "  <div class=\"colab-df-container\">\n",
              "    <button class=\"colab-df-convert\" onclick=\"convertToInteractive('df-5414e0a4-9ba3-4640-a765-9081fe5a0c4c')\"\n",
              "            title=\"Convert this dataframe to an interactive table.\"\n",
              "            style=\"display:none;\">\n",
              "\n",
              "  <svg xmlns=\"http://www.w3.org/2000/svg\" height=\"24px\" viewBox=\"0 -960 960 960\">\n",
              "    <path d=\"M120-120v-720h720v720H120Zm60-500h600v-160H180v160Zm220 220h160v-160H400v160Zm0 220h160v-160H400v160ZM180-400h160v-160H180v160Zm440 0h160v-160H620v160ZM180-180h160v-160H180v160Zm440 0h160v-160H620v160Z\"/>\n",
              "  </svg>\n",
              "    </button>\n",
              "\n",
              "  <style>\n",
              "    .colab-df-container {\n",
              "      display:flex;\n",
              "      gap: 12px;\n",
              "    }\n",
              "\n",
              "    .colab-df-convert {\n",
              "      background-color: #E8F0FE;\n",
              "      border: none;\n",
              "      border-radius: 50%;\n",
              "      cursor: pointer;\n",
              "      display: none;\n",
              "      fill: #1967D2;\n",
              "      height: 32px;\n",
              "      padding: 0 0 0 0;\n",
              "      width: 32px;\n",
              "    }\n",
              "\n",
              "    .colab-df-convert:hover {\n",
              "      background-color: #E2EBFA;\n",
              "      box-shadow: 0px 1px 2px rgba(60, 64, 67, 0.3), 0px 1px 3px 1px rgba(60, 64, 67, 0.15);\n",
              "      fill: #174EA6;\n",
              "    }\n",
              "\n",
              "    .colab-df-buttons div {\n",
              "      margin-bottom: 4px;\n",
              "    }\n",
              "\n",
              "    [theme=dark] .colab-df-convert {\n",
              "      background-color: #3B4455;\n",
              "      fill: #D2E3FC;\n",
              "    }\n",
              "\n",
              "    [theme=dark] .colab-df-convert:hover {\n",
              "      background-color: #434B5C;\n",
              "      box-shadow: 0px 1px 3px 1px rgba(0, 0, 0, 0.15);\n",
              "      filter: drop-shadow(0px 1px 2px rgba(0, 0, 0, 0.3));\n",
              "      fill: #FFFFFF;\n",
              "    }\n",
              "  </style>\n",
              "\n",
              "    <script>\n",
              "      const buttonEl =\n",
              "        document.querySelector('#df-5414e0a4-9ba3-4640-a765-9081fe5a0c4c button.colab-df-convert');\n",
              "      buttonEl.style.display =\n",
              "        google.colab.kernel.accessAllowed ? 'block' : 'none';\n",
              "\n",
              "      async function convertToInteractive(key) {\n",
              "        const element = document.querySelector('#df-5414e0a4-9ba3-4640-a765-9081fe5a0c4c');\n",
              "        const dataTable =\n",
              "          await google.colab.kernel.invokeFunction('convertToInteractive',\n",
              "                                                    [key], {});\n",
              "        if (!dataTable) return;\n",
              "\n",
              "        const docLinkHtml = 'Like what you see? Visit the ' +\n",
              "          '<a target=\"_blank\" href=https://colab.research.google.com/notebooks/data_table.ipynb>data table notebook</a>'\n",
              "          + ' to learn more about interactive tables.';\n",
              "        element.innerHTML = '';\n",
              "        dataTable['output_type'] = 'display_data';\n",
              "        await google.colab.output.renderOutput(dataTable, element);\n",
              "        const docLink = document.createElement('div');\n",
              "        docLink.innerHTML = docLinkHtml;\n",
              "        element.appendChild(docLink);\n",
              "      }\n",
              "    </script>\n",
              "  </div>\n",
              "\n",
              "\n",
              "    <div id=\"df-1d3b3269-fd12-4122-be3c-b45e77401b17\">\n",
              "      <button class=\"colab-df-quickchart\" onclick=\"quickchart('df-1d3b3269-fd12-4122-be3c-b45e77401b17')\"\n",
              "                title=\"Suggest charts\"\n",
              "                style=\"display:none;\">\n",
              "\n",
              "<svg xmlns=\"http://www.w3.org/2000/svg\" height=\"24px\"viewBox=\"0 0 24 24\"\n",
              "     width=\"24px\">\n",
              "    <g>\n",
              "        <path d=\"M19 3H5c-1.1 0-2 .9-2 2v14c0 1.1.9 2 2 2h14c1.1 0 2-.9 2-2V5c0-1.1-.9-2-2-2zM9 17H7v-7h2v7zm4 0h-2V7h2v10zm4 0h-2v-4h2v4z\"/>\n",
              "    </g>\n",
              "</svg>\n",
              "      </button>\n",
              "\n",
              "<style>\n",
              "  .colab-df-quickchart {\n",
              "      --bg-color: #E8F0FE;\n",
              "      --fill-color: #1967D2;\n",
              "      --hover-bg-color: #E2EBFA;\n",
              "      --hover-fill-color: #174EA6;\n",
              "      --disabled-fill-color: #AAA;\n",
              "      --disabled-bg-color: #DDD;\n",
              "  }\n",
              "\n",
              "  [theme=dark] .colab-df-quickchart {\n",
              "      --bg-color: #3B4455;\n",
              "      --fill-color: #D2E3FC;\n",
              "      --hover-bg-color: #434B5C;\n",
              "      --hover-fill-color: #FFFFFF;\n",
              "      --disabled-bg-color: #3B4455;\n",
              "      --disabled-fill-color: #666;\n",
              "  }\n",
              "\n",
              "  .colab-df-quickchart {\n",
              "    background-color: var(--bg-color);\n",
              "    border: none;\n",
              "    border-radius: 50%;\n",
              "    cursor: pointer;\n",
              "    display: none;\n",
              "    fill: var(--fill-color);\n",
              "    height: 32px;\n",
              "    padding: 0;\n",
              "    width: 32px;\n",
              "  }\n",
              "\n",
              "  .colab-df-quickchart:hover {\n",
              "    background-color: var(--hover-bg-color);\n",
              "    box-shadow: 0 1px 2px rgba(60, 64, 67, 0.3), 0 1px 3px 1px rgba(60, 64, 67, 0.15);\n",
              "    fill: var(--button-hover-fill-color);\n",
              "  }\n",
              "\n",
              "  .colab-df-quickchart-complete:disabled,\n",
              "  .colab-df-quickchart-complete:disabled:hover {\n",
              "    background-color: var(--disabled-bg-color);\n",
              "    fill: var(--disabled-fill-color);\n",
              "    box-shadow: none;\n",
              "  }\n",
              "\n",
              "  .colab-df-spinner {\n",
              "    border: 2px solid var(--fill-color);\n",
              "    border-color: transparent;\n",
              "    border-bottom-color: var(--fill-color);\n",
              "    animation:\n",
              "      spin 1s steps(1) infinite;\n",
              "  }\n",
              "\n",
              "  @keyframes spin {\n",
              "    0% {\n",
              "      border-color: transparent;\n",
              "      border-bottom-color: var(--fill-color);\n",
              "      border-left-color: var(--fill-color);\n",
              "    }\n",
              "    20% {\n",
              "      border-color: transparent;\n",
              "      border-left-color: var(--fill-color);\n",
              "      border-top-color: var(--fill-color);\n",
              "    }\n",
              "    30% {\n",
              "      border-color: transparent;\n",
              "      border-left-color: var(--fill-color);\n",
              "      border-top-color: var(--fill-color);\n",
              "      border-right-color: var(--fill-color);\n",
              "    }\n",
              "    40% {\n",
              "      border-color: transparent;\n",
              "      border-right-color: var(--fill-color);\n",
              "      border-top-color: var(--fill-color);\n",
              "    }\n",
              "    60% {\n",
              "      border-color: transparent;\n",
              "      border-right-color: var(--fill-color);\n",
              "    }\n",
              "    80% {\n",
              "      border-color: transparent;\n",
              "      border-right-color: var(--fill-color);\n",
              "      border-bottom-color: var(--fill-color);\n",
              "    }\n",
              "    90% {\n",
              "      border-color: transparent;\n",
              "      border-bottom-color: var(--fill-color);\n",
              "    }\n",
              "  }\n",
              "</style>\n",
              "\n",
              "      <script>\n",
              "        async function quickchart(key) {\n",
              "          const quickchartButtonEl =\n",
              "            document.querySelector('#' + key + ' button');\n",
              "          quickchartButtonEl.disabled = true;  // To prevent multiple clicks.\n",
              "          quickchartButtonEl.classList.add('colab-df-spinner');\n",
              "          try {\n",
              "            const charts = await google.colab.kernel.invokeFunction(\n",
              "                'suggestCharts', [key], {});\n",
              "          } catch (error) {\n",
              "            console.error('Error during call to suggestCharts:', error);\n",
              "          }\n",
              "          quickchartButtonEl.classList.remove('colab-df-spinner');\n",
              "          quickchartButtonEl.classList.add('colab-df-quickchart-complete');\n",
              "        }\n",
              "        (() => {\n",
              "          let quickchartButtonEl =\n",
              "            document.querySelector('#df-1d3b3269-fd12-4122-be3c-b45e77401b17 button');\n",
              "          quickchartButtonEl.style.display =\n",
              "            google.colab.kernel.accessAllowed ? 'block' : 'none';\n",
              "        })();\n",
              "      </script>\n",
              "    </div>\n",
              "\n",
              "    </div>\n",
              "  </div>\n"
            ],
            "application/vnd.google.colaboratory.intrinsic+json": {
              "type": "dataframe",
              "summary": "{\n  \"name\": \"df\",\n  \"rows\": 8,\n  \"fields\": [\n    {\n      \"column\": \"age\",\n      \"properties\": {\n        \"dtype\": \"number\",\n        \"std\": 460.6106090399993,\n        \"min\": 14.049960379216172,\n        \"max\": 1338.0,\n        \"num_unique_values\": 8,\n        \"samples\": [\n          39.20702541106129,\n          39.0,\n          1338.0\n        ],\n        \"semantic_type\": \"\",\n        \"description\": \"\"\n      }\n    },\n    {\n      \"column\": \"bmi\",\n      \"properties\": {\n        \"dtype\": \"number\",\n        \"std\": 463.2937550164555,\n        \"min\": 6.098382190003366,\n        \"max\": 1338.0,\n        \"num_unique_values\": 8,\n        \"samples\": [\n          30.66547085201794,\n          30.4,\n          1338.0\n        ],\n        \"semantic_type\": \"\",\n        \"description\": \"\"\n      }\n    },\n    {\n      \"column\": \"children\",\n      \"properties\": {\n        \"dtype\": \"number\",\n        \"std\": 472.5368318870757,\n        \"min\": 0.0,\n        \"max\": 1338.0,\n        \"num_unique_values\": 7,\n        \"samples\": [\n          1338.0,\n          1.0949177877429,\n          2.0\n        ],\n        \"semantic_type\": \"\",\n        \"description\": \"\"\n      }\n    },\n    {\n      \"column\": \"expenses\",\n      \"properties\": {\n        \"dtype\": \"number\",\n        \"std\": 20381.92402948947,\n        \"min\": 1121.87,\n        \"max\": 63770.43,\n        \"num_unique_values\": 8,\n        \"samples\": [\n          13270.422414050823,\n          9382.029999999999,\n          1338.0\n        ],\n        \"semantic_type\": \"\",\n        \"description\": \"\"\n      }\n    },\n    {\n      \"column\": \"premium\",\n      \"properties\": {\n        \"dtype\": \"number\",\n        \"std\": 708.1391793300053,\n        \"min\": 11.2187,\n        \"max\": 1983.1064,\n        \"num_unique_values\": 8,\n        \"samples\": [\n          262.87468542600897,\n          174.9974,\n          1338.0\n        ],\n        \"semantic_type\": \"\",\n        \"description\": \"\"\n      }\n    }\n  ]\n}"
            }
          },
          "metadata": {},
          "execution_count": 6
        }
      ]
    },
    {
      "cell_type": "code",
      "source": [
        "print(\"Missing values:\\n\", df.isnull().sum()) #there are no missing values therefore EDA can be directly done\n"
      ],
      "metadata": {
        "colab": {
          "base_uri": "https://localhost:8080/"
        },
        "id": "uS3GFyEF5yzu",
        "outputId": "f901294e-f3ff-4550-fa78-2b6eaa87a5c8"
      },
      "execution_count": 7,
      "outputs": [
        {
          "output_type": "stream",
          "name": "stdout",
          "text": [
            "Missing values:\n",
            " age                     0\n",
            "gender                  0\n",
            "bmi                     0\n",
            "children                0\n",
            "discount_eligibility    0\n",
            "region                  0\n",
            "expenses                0\n",
            "premium                 0\n",
            "dtype: int64\n"
          ]
        }
      ]
    },
    {
      "cell_type": "code",
      "source": [
        "df.drop_duplicates(inplace=True)  #duplicate rows are removed"
      ],
      "metadata": {
        "id": "i27P6Zty6GdD"
      },
      "execution_count": 8,
      "outputs": []
    },
    {
      "cell_type": "code",
      "source": [
        "#I will use these columns or values for visualisations and to encode the categorical data .\n",
        "for col in df.select_dtypes(include='object').columns:\n",
        "    print(f\"{col} unique values: {df[col].unique()}\")"
      ],
      "metadata": {
        "colab": {
          "base_uri": "https://localhost:8080/"
        },
        "id": "OXi7TZgX6gK8",
        "outputId": "b6dc2eb5-b9df-4803-9bcf-580e92156c41"
      },
      "execution_count": 9,
      "outputs": [
        {
          "output_type": "stream",
          "name": "stdout",
          "text": [
            "gender unique values: ['female' 'male']\n",
            "discount_eligibility unique values: ['yes' 'no']\n",
            "region unique values: ['southwest' 'southeast' 'northwest' 'northeast']\n"
          ]
        }
      ]
    },
    {
      "cell_type": "markdown",
      "source": [
        "Countplots used to understand the distributions in each column,understand the imbalances and comapre the groups with each other."
      ],
      "metadata": {
        "id": "W48uJlVtHIo4"
      }
    },
    {
      "cell_type": "code",
      "source": [
        "#gender visualisations\n",
        "import seaborn as sns\n",
        "import matplotlib.pyplot as plt\n",
        "sns.countplot(x='gender', data=df)\n",
        "plt.title('Gender Distribution')\n",
        "plt.show()"
      ],
      "metadata": {
        "colab": {
          "base_uri": "https://localhost:8080/",
          "height": 472
        },
        "id": "a0lyCAW17WJr",
        "outputId": "e0c94748-256c-489e-f652-98d0b92030f0"
      },
      "execution_count": 10,
      "outputs": [
        {
          "output_type": "display_data",
          "data": {
            "text/plain": [
              "<Figure size 640x480 with 1 Axes>"
            ],
            "image/png": "[encoded data removed]"
          },
          "metadata": {}
        }
      ]
    },
    {
      "cell_type": "markdown",
      "source": [
        "Fair distribution of gender therefore no gender bias."
      ],
      "metadata": {
        "id": "Klq3SUveAVSX"
      }
    },
    {
      "cell_type": "code",
      "source": [
        "import seaborn as sns\n",
        "import matplotlib.pyplot as plt\n",
        "sns.countplot(x='discount_eligibility', data=df)\n",
        "plt.title('Discount Eligibility Count')\n",
        "plt.xlabel('Eligible for Discount')\n",
        "plt.ylabel('Count')\n",
        "plt.show()"
      ],
      "metadata": {
        "colab": {
          "base_uri": "https://localhost:8080/",
          "height": 472
        },
        "id": "JPOm4VFc7ghv",
        "outputId": "c8c156cd-4788-4ea3-b956-e4b6d47b96d4"
      },
      "execution_count": 11,
      "outputs": [
        {
          "output_type": "display_data",
          "data": {
            "text/plain": [
              "<Figure size 640x480 with 1 Axes>"
            ],
            "image/png": "[encoded data removed]"
          },
          "metadata": {}
        }
      ]
    },
    {
      "cell_type": "markdown",
      "source": [
        "Most people aren't eligible for a discount therefore discount can be affected.\n"
      ],
      "metadata": {
        "id": "ZiPd1QRoA0JJ"
      }
    },
    {
      "cell_type": "code",
      "source": [
        "sns.countplot(x='region', data=df)\n",
        "plt.title('Distribution by Region')\n",
        "plt.xlabel('Region')\n",
        "plt.ylabel('Count')\n",
        "plt.show()"
      ],
      "metadata": {
        "colab": {
          "base_uri": "https://localhost:8080/",
          "height": 472
        },
        "id": "mkIwAdYyAdq2",
        "outputId": "8cc6af58-8830-4565-995e-3659bbf72ad5"
      },
      "execution_count": 12,
      "outputs": [
        {
          "output_type": "display_data",
          "data": {
            "text/plain": [
              "<Figure size 640x480 with 1 Axes>"
            ],
            "image/png": "[encoded data removed]"
          },
          "metadata": {}
        }
      ]
    },
    {
      "cell_type": "markdown",
      "source": [
        "Barplots are made to check any outliers and histograms made to understand the distributions."
      ],
      "metadata": {
        "id": "Y-lkoKJbB7-r"
      }
    },
    {
      "cell_type": "code",
      "source": [
        "import seaborn as sns\n",
        "import matplotlib.pyplot as plt\n",
        "sns.set(style=\"whitegrid\")\n",
        "\n",
        "#BMI vs Gender\n",
        "plt.figure(figsize=(8, 5))\n",
        "sns.boxplot(x='gender', y='bmi', data=df)\n",
        "plt.title('BMI by Gender')\n",
        "plt.show()\n",
        "\n",
        "#Expenses vs Discount Eligibility\n",
        "plt.figure(figsize=(8, 5))\n",
        "sns.boxplot(x='discount_eligibility', y='expenses', data=df)\n",
        "plt.title('Expenses by Discount Eligibility')\n",
        "plt.show()\n",
        "\n",
        "#Premium by Region\n",
        "plt.figure(figsize=(10, 6))\n",
        "sns.boxplot(x='region', y='premium', data=df)\n",
        "plt.title('Premium by Region')\n",
        "plt.xticks(rotation=45)\n",
        "plt.show()\n"
      ],
      "metadata": {
        "colab": {
          "base_uri": "https://localhost:8080/",
          "height": 1000
        },
        "id": "zMX8rPLLGY83",
        "outputId": "e5b5b496-09fd-478b-feee-708eb9f567b9"
      },
      "execution_count": 13,
      "outputs": [
        {
          "output_type": "display_data",
          "data": {
            "text/plain": [
              "<Figure size 800x500 with 1 Axes>"
            ],
            "image/png": "[encoded data removed]"
          },
          "metadata": {}
        },
        {
          "output_type": "display_data",
          "data": {
            "text/plain": [
              "<Figure size 800x500 with 1 Axes>"
            ],
            "image/png": "[encoded data removed]"
          },
          "metadata": {}
        },
        {
          "output_type": "display_data",
          "data": {
            "text/plain": [
              "<Figure size 1000x600 with 1 Axes>"
            ],
            "image/png": "[encoded data removed]"
          },
          "metadata": {}
        }
      ]
    },
    {
      "cell_type": "code",
      "source": [
        "# Age distribution\n",
        "df['age'].hist(bins=20)\n",
        "plt.title(\"Age Distribution\")\n",
        "plt.xlabel(\"Age\")\n",
        "plt.ylabel(\"Count\")\n",
        "plt.show()\n",
        "\n"
      ],
      "metadata": {
        "colab": {
          "base_uri": "https://localhost:8080/",
          "height": 480
        },
        "id": "9l_Bg9TLBw5i",
        "outputId": "f16ef21c-e37a-4357-b9fa-5e026a82a32c"
      },
      "execution_count": 14,
      "outputs": [
        {
          "output_type": "display_data",
          "data": {
            "text/plain": [
              "<Figure size 640x480 with 1 Axes>"
            ],
            "image/png": "[encoded data removed]"
          },
          "metadata": {}
        }
      ]
    },
    {
      "cell_type": "markdown",
      "source": [
        "Correlation Heatmaps are used to understand the relatioship between the different variables of the dataset."
      ],
      "metadata": {
        "id": "soxqWH01HpxQ"
      }
    },
    {
      "cell_type": "code",
      "source": [
        "numeric_df = df.select_dtypes(include=['int64', 'float64'])\n",
        "correlation_matrix = numeric_df.corr()\n",
        "plt.figure(figsize=(8, 6))\n",
        "sns.heatmap(correlation_matrix, annot=True, cmap='coolwarm', fmt=\".2f\")\n",
        "plt.title(\"Correlation Heatmap - Numeric Features\")\n",
        "plt.show()"
      ],
      "metadata": {
        "colab": {
          "base_uri": "https://localhost:8080/",
          "height": 549
        },
        "id": "_ZK7eIGDD2fK",
        "outputId": "4373a359-dec7-4b57-d04d-f30ba3c920ef"
      },
      "execution_count": 15,
      "outputs": [
        {
          "output_type": "display_data",
          "data": {
            "text/plain": [
              "<Figure size 800x600 with 2 Axes>"
            ],
            "image/png": "[encoded data removed]"
          },
          "metadata": {}
        }
      ]
    },
    {
      "cell_type": "markdown",
      "source": [
        "Expenses and premium have a strong positive correlation and relationship therefore individuals with higher expenses tend to pay higher insurance premiums.\n",
        "\n",
        "Age and premium have a moderate correlation meaning older indiviuals might be paying more for insurance due to health risks.\n",
        "\n",
        "Surprisingly, bmi does not have a strong correlation with premium and expenses while it should have influenced both the variables."
      ],
      "metadata": {
        "id": "fdeWc1kHEghT"
      }
    },
    {
      "cell_type": "markdown",
      "source": [
        "Week 2"
      ],
      "metadata": {
        "id": "2HJUFEcQ8F_Z"
      }
    },
    {
      "cell_type": "code",
      "source": [
        "import numpy as np\n",
        "import pandas as pd\n",
        "\n",
        "import matplotlib.pyplot as plt   #visualisation\n",
        "import seaborn as sns\n",
        "\n",
        "#libraries for building , training and evaluating models\n",
        "from sklearn.compose import ColumnTransformer\n",
        "from sklearn.pipeline import Pipeline\n",
        "from sklearn.preprocessing import OneHotEncoder, OrdinalEncoder, StandardScaler, LabelEncoder\n",
        "from sklearn.impute import SimpleImputer\n",
        "from sklearn.model_selection import train_test_split"
      ],
      "metadata": {
        "id": "K_SIPvirD6zY"
      },
      "execution_count": 16,
      "outputs": []
    },
    {
      "cell_type": "code",
      "source": [
        "df.isna().sum()\n"
      ],
      "metadata": {
        "colab": {
          "base_uri": "https://localhost:8080/",
          "height": 335
        },
        "id": "p7X8R3_I8jDR",
        "outputId": "01172670-73a3-4744-d2dc-620baa971d9f"
      },
      "execution_count": 17,
      "outputs": [
        {
          "output_type": "execute_result",
          "data": {
            "text/plain": [
              "age                     0\n",
              "gender                  0\n",
              "bmi                     0\n",
              "children                0\n",
              "discount_eligibility    0\n",
              "region                  0\n",
              "expenses                0\n",
              "premium                 0\n",
              "dtype: int64"
            ],
            "text/html": [
              "<div>\n",
              "<style scoped>\n",
              "    .dataframe tbody tr th:only-of-type {\n",
              "        vertical-align: middle;\n",
              "    }\n",
              "\n",
              "    .dataframe tbody tr th {\n",
              "        vertical-align: top;\n",
              "    }\n",
              "\n",
              "    .dataframe thead th {\n",
              "        text-align: right;\n",
              "    }\n",
              "</style>\n",
              "<table border=\"1\" class=\"dataframe\">\n",
              "  <thead>\n",
              "    <tr style=\"text-align: right;\">\n",
              "      <th></th>\n",
              "      <th>0</th>\n",
              "    </tr>\n",
              "  </thead>\n",
              "  <tbody>\n",
              "    <tr>\n",
              "      <th>age</th>\n",
              "      <td>0</td>\n",
              "    </tr>\n",
              "    <tr>\n",
              "      <th>gender</th>\n",
              "      <td>0</td>\n",
              "    </tr>\n",
              "    <tr>\n",
              "      <th>bmi</th>\n",
              "      <td>0</td>\n",
              "    </tr>\n",
              "    <tr>\n",
              "      <th>children</th>\n",
              "      <td>0</td>\n",
              "    </tr>\n",
              "    <tr>\n",
              "      <th>discount_eligibility</th>\n",
              "      <td>0</td>\n",
              "    </tr>\n",
              "    <tr>\n",
              "      <th>region</th>\n",
              "      <td>0</td>\n",
              "    </tr>\n",
              "    <tr>\n",
              "      <th>expenses</th>\n",
              "      <td>0</td>\n",
              "    </tr>\n",
              "    <tr>\n",
              "      <th>premium</th>\n",
              "      <td>0</td>\n",
              "    </tr>\n",
              "  </tbody>\n",
              "</table>\n",
              "</div><br><label><b>dtype:</b> int64</label>"
            ]
          },
          "metadata": {},
          "execution_count": 17
        }
      ]
    },
    {
      "cell_type": "markdown",
      "source": [
        "There are no missing columns therefore imputation is not required."
      ],
      "metadata": {
        "id": "h9I2w2BY9D52"
      }
    },
    {
      "cell_type": "code",
      "source": [
        "#label encoding gender and discount_eligibility\n",
        "label_cols = ['gender', 'discount_eligibility']\n",
        "label_encoders = {}\n",
        "\n",
        "for col in label_cols:\n",
        "    le = LabelEncoder()\n",
        "    df[col] = le.fit_transform(df[col])\n",
        "    label_encoders[col] = le  # saving encoders for later need.\n",
        "\n",
        "#One-Hot Encode 'region'\n",
        "region_ohe = pd.get_dummies(df['region'], prefix='region', drop_first=True)\n",
        "\n",
        "# Concatenate the new region columns and drop the original columns\n",
        "df = pd.concat([df.drop('region', axis=1), region_ohe], axis=1)\n",
        "\n",
        "print(df.head())\n"
      ],
      "metadata": {
        "colab": {
          "base_uri": "https://localhost:8080/"
        },
        "id": "mY0xomc382CC",
        "outputId": "29c1a2f9-a0c1-491e-d8a8-f1bb58397ca1"
      },
      "execution_count": 18,
      "outputs": [
        {
          "output_type": "stream",
          "name": "stdout",
          "text": [
            "   age  gender   bmi  children  discount_eligibility  expenses   premium  \\\n",
            "0   19       0  27.9         0                     1  16884.92  168.8492   \n",
            "1   18       1  33.8         1                     0   1725.55   17.2555   \n",
            "2   28       1  33.0         3                     0   4449.46   44.4946   \n",
            "3   33       1  22.7         0                     0  21984.47  439.6894   \n",
            "4   32       1  28.9         0                     0   3866.86   77.3372   \n",
            "\n",
            "   region_northwest  region_southeast  region_southwest  \n",
            "0             False             False              True  \n",
            "1             False              True             False  \n",
            "2             False              True             False  \n",
            "3              True             False             False  \n",
            "4              True             False             False  \n"
          ]
        }
      ]
    },
    {
      "cell_type": "markdown",
      "source": [
        "Label encoding converts the gender and discount_eligibility into 0/1.\n",
        "One-Hot Encoding converts the values of the region column into separate columns. As the values are more then 2 and do not have a logical order."
      ],
      "metadata": {
        "id": "BKdvMA6KAwUB"
      }
    },
    {
      "cell_type": "markdown",
      "source": [
        "I will detect outliers in Expenses and premium as both of them will be predicted by my model in the future.\n",
        "They will be needed as to not distort the Regression model while it is trained."
      ],
      "metadata": {
        "id": "87bEqUIaBv1v"
      }
    },
    {
      "cell_type": "code",
      "source": [
        "def detect_iqr_outliers(series):\n",
        "    Q1 = series.quantile(0.25)\n",
        "    Q3 = series.quantile(0.75)\n",
        "    IQR = Q3 - Q1\n",
        "    lower_bound = Q1 - 1.5 * IQR\n",
        "    upper_bound = Q3 + 1.5 * IQR\n",
        "    return series[(series < lower_bound) | (series > upper_bound)]"
      ],
      "metadata": {
        "id": "tNBBLFotABrg"
      },
      "execution_count": 19,
      "outputs": []
    },
    {
      "cell_type": "code",
      "source": [
        "outliers_expenses = detect_iqr_outliers(df['expenses'])\n",
        "outliers_premium = detect_iqr_outliers(df['premium'])\n",
        "\n",
        "print(f\"Number of outliers in 'expenses': {len(outliers_expenses)}\")\n",
        "print(f\"Number of outliers in 'premium': {len(outliers_premium)}\")"
      ],
      "metadata": {
        "colab": {
          "base_uri": "https://localhost:8080/"
        },
        "id": "Izmg2PqEBrG-",
        "outputId": "180473c7-3f66-43ad-cc46-8ebc0bb3a136"
      },
      "execution_count": 20,
      "outputs": [
        {
          "output_type": "stream",
          "name": "stdout",
          "text": [
            "Number of outliers in 'expenses': 139\n",
            "Number of outliers in 'premium': 113\n"
          ]
        }
      ]
    },
    {
      "cell_type": "markdown",
      "source": [
        "Since the outliers are < 5% and >10% and the model to be used in future includes regression model which is sensitive to outliers,therefore we will cap the outlier values to the lower and upper bound preventing data loss and distortion of the model."
      ],
      "metadata": {
        "id": "LABa1rSXDLgX"
      }
    },
    {
      "cell_type": "code",
      "source": [
        "def cap_outliers(series):\n",
        "    Q1 = series.quantile(0.25)\n",
        "    Q3 = series.quantile(0.75)\n",
        "    IQR = Q3 - Q1\n",
        "    lower = Q1 - 1.5 * IQR\n",
        "    upper = Q3 + 1.5 * IQR\n",
        "    return series.clip(lower, upper)\n",
        "\n",
        "df['expenses_capped'] = cap_outliers(df['expenses'])\n",
        "df['premium_capped'] = cap_outliers(df['premium'])"
      ],
      "metadata": {
        "id": "_1u7OQdMBtmf"
      },
      "execution_count": 21,
      "outputs": []
    },
    {
      "cell_type": "markdown",
      "source": [
        "BMI has the most effect on health while we saw that it least affected the premium and expenses in the correlation heatmap ,therefore we are applying feature engineering to BMI.\n"
      ],
      "metadata": {
        "id": "7ISK62RTEztk"
      }
    },
    {
      "cell_type": "code",
      "source": [
        "df['bmi_category'] = pd.cut(df['bmi'],\n",
        "                            bins=[0, 18.5, 25, 30, 100],\n",
        "                            labels=['underweight', 'normal', 'overweight', 'obese'])\n",
        "print(df.head())"
      ],
      "metadata": {
        "colab": {
          "base_uri": "https://localhost:8080/"
        },
        "id": "B9Tvn9PCFIPC",
        "outputId": "567464ae-1c5b-477a-f033-e17b5b9e82b8"
      },
      "execution_count": 22,
      "outputs": [
        {
          "output_type": "stream",
          "name": "stdout",
          "text": [
            "   age  gender   bmi  children  discount_eligibility  expenses   premium  \\\n",
            "0   19       0  27.9         0                     1  16884.92  168.8492   \n",
            "1   18       1  33.8         1                     0   1725.55   17.2555   \n",
            "2   28       1  33.0         3                     0   4449.46   44.4946   \n",
            "3   33       1  22.7         0                     0  21984.47  439.6894   \n",
            "4   32       1  28.9         0                     0   3866.86   77.3372   \n",
            "\n",
            "   region_northwest  region_southeast  region_southwest  expenses_capped  \\\n",
            "0             False             False              True         16884.92   \n",
            "1             False              True             False          1725.55   \n",
            "2             False              True             False          4449.46   \n",
            "3              True             False             False         21984.47   \n",
            "4              True             False             False          3866.86   \n",
            "\n",
            "   premium_capped bmi_category  \n",
            "0        168.8492   overweight  \n",
            "1         17.2555        obese  \n",
            "2         44.4946        obese  \n",
            "3        439.6894       normal  \n",
            "4         77.3372   overweight  \n"
          ]
        }
      ]
    },
    {
      "cell_type": "markdown",
      "source": [
        "Now since we have a catogrical column we need to convert that into a numeric column therefore applying one - hot encoding to bmi_category to remove all categorical columns."
      ],
      "metadata": {
        "id": "6C03tlURJpQJ"
      }
    },
    {
      "cell_type": "code",
      "source": [
        "# One-hot encoding to  bmi_category\n",
        "bmi_dummies = pd.get_dummies(df['bmi_category'], prefix='bmi_cat')\n",
        "\n",
        "# Original column dropped and concatenate new one-hot columns\n",
        "df = df.drop('bmi_category', axis=1)\n",
        "df = pd.concat([df, bmi_dummies], axis=1)"
      ],
      "metadata": {
        "id": "C9uOG2hkKIoQ"
      },
      "execution_count": 29,
      "outputs": []
    },
    {
      "cell_type": "code",
      "source": [
        "print(df.head())"
      ],
      "metadata": {
        "colab": {
          "base_uri": "https://localhost:8080/"
        },
        "id": "5p9CbBxUGm5K",
        "outputId": "67f59ba6-a63c-4388-bbd3-146fec6057e4"
      },
      "execution_count": 30,
      "outputs": [
        {
          "output_type": "stream",
          "name": "stdout",
          "text": [
            "   age  gender   bmi  children  discount_eligibility  expenses   premium  \\\n",
            "0   19       0  27.9         0                     1  16884.92  168.8492   \n",
            "1   18       1  33.8         1                     0   1725.55   17.2555   \n",
            "2   28       1  33.0         3                     0   4449.46   44.4946   \n",
            "3   33       1  22.7         0                     0  21984.47  439.6894   \n",
            "4   32       1  28.9         0                     0   3866.86   77.3372   \n",
            "\n",
            "   region_northwest  region_southeast  region_southwest  expenses_capped  \\\n",
            "0             False             False              True         16884.92   \n",
            "1             False              True             False          1725.55   \n",
            "2             False              True             False          4449.46   \n",
            "3              True             False             False         21984.47   \n",
            "4              True             False             False          3866.86   \n",
            "\n",
            "   premium_capped  bmi_cat_underweight  bmi_cat_normal  bmi_cat_overweight  \\\n",
            "0        168.8492                False           False                True   \n",
            "1         17.2555                False           False               False   \n",
            "2         44.4946                False           False               False   \n",
            "3        439.6894                False            True               False   \n",
            "4         77.3372                False           False                True   \n",
            "\n",
            "   bmi_cat_obese  \n",
            "0          False  \n",
            "1           True  \n",
            "2           True  \n",
            "3          False  \n",
            "4          False  \n"
          ]
        }
      ]
    },
    {
      "cell_type": "code",
      "source": [
        "X = df.drop(['expenses', 'premium'], axis=1)\n",
        "y_exp   = df['expenses_capped']\n",
        "y_prem  = df['premium_capped']\n",
        "\n",
        "X_train, X_test, y_exp_train, y_exp_test, y_prem_train, y_prem_test = train_test_split(\n",
        "    X, y_exp, y_prem,\n",
        "    test_size=0.2, random_state=42 #80%of data used in training and 20% in testing. Random state = to an integer therefore each time code runs the data remains the same not shuffled.\n",
        ")"
      ],
      "metadata": {
        "id": "ykHQTxjSFs5V"
      },
      "execution_count": 31,
      "outputs": []
    },
    {
      "cell_type": "markdown",
      "source": [
        "Week 3"
      ],
      "metadata": {
        "id": "3w37yFuAKl1C"
      }
    },
    {
      "cell_type": "markdown",
      "source": [
        "The pipeline is ready. Now will get started on the model training and evaluation.My model will predict the expenses(actual medical cost) and premium(isurance premium charged) for the customers.\n",
        "I am  using Linear Regressor,Random Forest Regressor and XGB Regressor as my models."
      ],
      "metadata": {
        "id": "_qos5uSMZWGW"
      }
    },
    {
      "cell_type": "code",
      "source": [
        "from sklearn.linear_model import LinearRegression\n",
        "from sklearn.ensemble import RandomForestRegressor\n",
        "from xgboost import XGBRegressor\n",
        "\n",
        "from sklearn.metrics import mean_squared_error, mean_absolute_error, r2_score\n",
        "import numpy as np"
      ],
      "metadata": {
        "id": "xXP3ms2IGTF8"
      },
      "execution_count": 32,
      "outputs": []
    },
    {
      "cell_type": "markdown",
      "source": [
        "Defining the train and evaluate function that can then be used later and avoids code repition."
      ],
      "metadata": {
        "id": "9ZIoMdv8dBdF"
      }
    },
    {
      "cell_type": "code",
      "source": [
        "def train_and_evaluate(model, X_train, X_test, y_train, y_test, label):\n",
        "    model.fit(X_train, y_train)\n",
        "    predictions = model.predict(X_test)\n",
        "\n",
        "    rmse = np.sqrt(mean_squared_error(y_test, predictions))\n",
        "    mae = mean_absolute_error(y_test, predictions)\n",
        "    r2 = r2_score(y_test, predictions)\n",
        "\n",
        "    print(f\"🔹 {label} - {model.__class__.__name__}\")\n",
        "    print(f\"   RMSE: {rmse:.2f}\")\n",
        "    print(f\"   MAE : {mae:.2f}\")\n",
        "    print(f\"   R²  : {r2:.2f}\")\n",
        "    print(\"-\" * 40)\n",
        "\n",
        "    return model"
      ],
      "metadata": {
        "id": "q6HoqCcyc9T2"
      },
      "execution_count": 33,
      "outputs": []
    },
    {
      "cell_type": "markdown",
      "source": [
        "Training and evaluating all 3 models"
      ],
      "metadata": {
        "id": "qThSQKfnLP7U"
      }
    },
    {
      "cell_type": "code",
      "source": [
        "print(\"=== Predicting Medical Expenses ===\")\n",
        "lr_exp = train_and_evaluate(LinearRegression(), X_train, X_test, y_exp_train, y_exp_test, 'Expenses')\n",
        "rf_exp = train_and_evaluate(RandomForestRegressor(random_state=42), X_train, X_test, y_exp_train, y_exp_test, 'Expenses')\n",
        "xgb_exp = train_and_evaluate(XGBRegressor(random_state=42), X_train, X_test, y_exp_train, y_exp_test, 'Expenses')"
      ],
      "metadata": {
        "id": "cO0OKsH3dAkU",
        "colab": {
          "base_uri": "https://localhost:8080/"
        },
        "outputId": "8772786b-c910-4343-f1b9-cc44cbf80cca"
      },
      "execution_count": 34,
      "outputs": [
        {
          "output_type": "stream",
          "name": "stdout",
          "text": [
            "=== Predicting Medical Expenses ===\n",
            "🔹 Expenses - LinearRegression\n",
            "   RMSE: 0.00\n",
            "   MAE : 0.00\n",
            "   R²  : 1.00\n",
            "----------------------------------------\n",
            "🔹 Expenses - RandomForestRegressor\n",
            "   RMSE: 69.48\n",
            "   MAE : 21.95\n",
            "   R²  : 1.00\n",
            "----------------------------------------\n",
            "🔹 Expenses - XGBRegressor\n",
            "   RMSE: 101.90\n",
            "   MAE : 50.42\n",
            "   R²  : 1.00\n",
            "----------------------------------------\n"
          ]
        }
      ]
    },
    {
      "cell_type": "code",
      "source": [
        "print(\"\\n=== Predicting Insurance Premiums ===\")\n",
        "lr_prem = train_and_evaluate(LinearRegression(), X_train, X_test, y_prem_train, y_prem_test, 'Premium')\n",
        "rf_prem = train_and_evaluate(RandomForestRegressor(random_state=42), X_train, X_test, y_prem_train, y_prem_test, 'Premium')\n",
        "xgb_prem = train_and_evaluate(XGBRegressor(random_state=42), X_train, X_test, y_prem_train, y_prem_test, 'Premium')"
      ],
      "metadata": {
        "colab": {
          "base_uri": "https://localhost:8080/"
        },
        "id": "VVgb8CcjJRyE",
        "outputId": "d68254cd-cc42-48b3-9ee8-37ced909adad"
      },
      "execution_count": 35,
      "outputs": [
        {
          "output_type": "stream",
          "name": "stdout",
          "text": [
            "\n",
            "=== Predicting Insurance Premiums ===\n",
            "🔹 Premium - LinearRegression\n",
            "   RMSE: 0.00\n",
            "   MAE : 0.00\n",
            "   R²  : 1.00\n",
            "----------------------------------------\n",
            "🔹 Premium - RandomForestRegressor\n",
            "   RMSE: 1.48\n",
            "   MAE : 0.40\n",
            "   R²  : 1.00\n",
            "----------------------------------------\n",
            "🔹 Premium - XGBRegressor\n",
            "   RMSE: 2.24\n",
            "   MAE : 1.10\n",
            "   R²  : 1.00\n",
            "----------------------------------------\n"
          ]
        }
      ]
    },
    {
      "cell_type": "markdown",
      "source": [
        "Linear Regression significantly outperforms more complex models like Random Forest and XGBoost in both expenses and premium prediction tasks.\n",
        "\n",
        "It achieves perfect scores on all metrics: RMSE = 0, MAE = 0, and R² = 1, indicating perfect predictions on the test data.\n",
        "\n",
        "Given its simplicity and accuracy, Linear Regression is chosen as the final model for both prediction tasks.\n"
      ],
      "metadata": {
        "id": "8qdWQjdELVoJ"
      }
    },
    {
      "cell_type": "code",
      "source": [
        "import matplotlib.pyplot as plt\n",
        "\n",
        "# Example for expenses\n",
        "y_pred_exp = rf_exp.predict(X_test)\n",
        "plt.scatter(y_exp_test, y_pred_exp, alpha=0.5)\n",
        "plt.xlabel('Actual Expenses')\n",
        "plt.ylabel('Predicted Expenses')\n",
        "plt.title('Expenses: Actual vs Predicted')\n",
        "plt.plot([y_exp_test.min(), y_exp_test.max()], [y_exp_test.min(), y_exp_test.max()], 'r--')\n",
        "plt.show()"
      ],
      "metadata": {
        "colab": {
          "base_uri": "https://localhost:8080/",
          "height": 480
        },
        "id": "beLtM6UJLC2Y",
        "outputId": "de6ada43-937a-4f02-d18f-52113aa21503"
      },
      "execution_count": 36,
      "outputs": [
        {
          "output_type": "display_data",
          "data": {
            "text/plain": [
              "<Figure size 640x480 with 1 Axes>"
            ],
            "image/png": "[encoded data removed]"
          },
          "metadata": {}
        }
      ]
    },
    {
      "cell_type": "code",
      "source": [
        "X = df.drop(['expenses', 'premium', 'expenses_capped', 'premium_capped'], axis=1)\n"
      ],
      "metadata": {
        "id": "XpzV5oXwO9Kd"
      },
      "execution_count": 45,
      "outputs": []
    },
    {
      "cell_type": "markdown",
      "source": [
        "The final model chosen is LinearRegression which is now trained on all data."
      ],
      "metadata": {
        "id": "vsUkF5PcT71L"
      }
    },
    {
      "cell_type": "code",
      "source": [
        "final_rf_exp = LinearRegression()\n",
        "final_rf_prem = LinearRegression()\n",
        "\n",
        "final_rf_exp.fit(X, y_exp)\n",
        "final_rf_prem.fit(X, y_prem)"
      ],
      "metadata": {
        "colab": {
          "base_uri": "https://localhost:8080/",
          "height": 80
        },
        "id": "IjY5QF5gMPOH",
        "outputId": "9b1909b0-5f65-4003-ec6c-09779ff74109"
      },
      "execution_count": 46,
      "outputs": [
        {
          "output_type": "execute_result",
          "data": {
            "text/plain": [
              "LinearRegression()"
            ],
            "text/html": [
              "<style>#sk-container-id-2 {\n",
              "  /* Definition of color scheme common for light and dark mode */\n",
              "  --sklearn-color-text: #000;\n",
              "  --sklearn-color-text-muted: #666;\n",
              "  --sklearn-color-line: gray;\n",
              "  /* Definition of color scheme for unfitted estimators */\n",
              "  --sklearn-color-unfitted-level-0: #fff5e6;\n",
              "  --sklearn-color-unfitted-level-1: #f6e4d2;\n",
              "  --sklearn-color-unfitted-level-2: #ffe0b3;\n",
              "  --sklearn-color-unfitted-level-3: chocolate;\n",
              "  /* Definition of color scheme for fitted estimators */\n",
              "  --sklearn-color-fitted-level-0: #f0f8ff;\n",
              "  --sklearn-color-fitted-level-1: #d4ebff;\n",
              "  --sklearn-color-fitted-level-2: #b3dbfd;\n",
              "  --sklearn-color-fitted-level-3: cornflowerblue;\n",
              "\n",
              "  /* Specific color for light theme */\n",
              "  --sklearn-color-text-on-default-background: var(--sg-text-color, var(--theme-code-foreground, var(--jp-content-font-color1, black)));\n",
              "  --sklearn-color-background: var(--sg-background-color, var(--theme-background, var(--jp-layout-color0, white)));\n",
              "  --sklearn-color-border-box: var(--sg-text-color, var(--theme-code-foreground, var(--jp-content-font-color1, black)));\n",
              "  --sklearn-color-icon: #696969;\n",
              "\n",
              "  @media (prefers-color-scheme: dark) {\n",
              "    /* Redefinition of color scheme for dark theme */\n",
              "    --sklearn-color-text-on-default-background: var(--sg-text-color, var(--theme-code-foreground, var(--jp-content-font-color1, white)));\n",
              "    --sklearn-color-background: var(--sg-background-color, var(--theme-background, var(--jp-layout-color0, #111)));\n",
              "    --sklearn-color-border-box: var(--sg-text-color, var(--theme-code-foreground, var(--jp-content-font-color1, white)));\n",
              "    --sklearn-color-icon: #878787;\n",
              "  }\n",
              "}\n",
              "\n",
              "#sk-container-id-2 {\n",
              "  color: var(--sklearn-color-text);\n",
              "}\n",
              "\n",
              "#sk-container-id-2 pre {\n",
              "  padding: 0;\n",
              "}\n",
              "\n",
              "#sk-container-id-2 input.sk-hidden--visually {\n",
              "  border: 0;\n",
              "  clip: rect(1px 1px 1px 1px);\n",
              "  clip: rect(1px, 1px, 1px, 1px);\n",
              "  height: 1px;\n",
              "  margin: -1px;\n",
              "  overflow: hidden;\n",
              "  padding: 0;\n",
              "  position: absolute;\n",
              "  width: 1px;\n",
              "}\n",
              "\n",
              "#sk-container-id-2 div.sk-dashed-wrapped {\n",
              "  border: 1px dashed var(--sklearn-color-line);\n",
              "  margin: 0 0.4em 0.5em 0.4em;\n",
              "  box-sizing: border-box;\n",
              "  padding-bottom: 0.4em;\n",
              "  background-color: var(--sklearn-color-background);\n",
              "}\n",
              "\n",
              "#sk-container-id-2 div.sk-container {\n",
              "  /* jupyter's `normalize.less` sets `[hidden] { display: none; }`\n",
              "     but bootstrap.min.css set `[hidden] { display: none !important; }`\n",
              "     so we also need the `!important` here to be able to override the\n",
              "     default hidden behavior on the sphinx rendered scikit-learn.org.\n",
              "     See: https://github.com/scikit-learn/scikit-learn/issues/21755 */\n",
              "  display: inline-block !important;\n",
              "  position: relative;\n",
              "}\n",
              "\n",
              "#sk-container-id-2 div.sk-text-repr-fallback {\n",
              "  display: none;\n",
              "}\n",
              "\n",
              "div.sk-parallel-item,\n",
              "div.sk-serial,\n",
              "div.sk-item {\n",
              "  /* draw centered vertical line to link estimators */\n",
              "  background-image: linear-gradient(var(--sklearn-color-text-on-default-background), var(--sklearn-color-text-on-default-background));\n",
              "  background-size: 2px 100%;\n",
              "  background-repeat: no-repeat;\n",
              "  background-position: center center;\n",
              "}\n",
              "\n",
              "/* Parallel-specific style estimator block */\n",
              "\n",
              "#sk-container-id-2 div.sk-parallel-item::after {\n",
              "  content: \"\";\n",
              "  width: 100%;\n",
              "  border-bottom: 2px solid var(--sklearn-color-text-on-default-background);\n",
              "  flex-grow: 1;\n",
              "}\n",
              "\n",
              "#sk-container-id-2 div.sk-parallel {\n",
              "  display: flex;\n",
              "  align-items: stretch;\n",
              "  justify-content: center;\n",
              "  background-color: var(--sklearn-color-background);\n",
              "  position: relative;\n",
              "}\n",
              "\n",
              "#sk-container-id-2 div.sk-parallel-item {\n",
              "  display: flex;\n",
              "  flex-direction: column;\n",
              "}\n",
              "\n",
              "#sk-container-id-2 div.sk-parallel-item:first-child::after {\n",
              "  align-self: flex-end;\n",
              "  width: 50%;\n",
              "}\n",
              "\n",
              "#sk-container-id-2 div.sk-parallel-item:last-child::after {\n",
              "  align-self: flex-start;\n",
              "  width: 50%;\n",
              "}\n",
              "\n",
              "#sk-container-id-2 div.sk-parallel-item:only-child::after {\n",
              "  width: 0;\n",
              "}\n",
              "\n",
              "/* Serial-specific style estimator block */\n",
              "\n",
              "#sk-container-id-2 div.sk-serial {\n",
              "  display: flex;\n",
              "  flex-direction: column;\n",
              "  align-items: center;\n",
              "  background-color: var(--sklearn-color-background);\n",
              "  padding-right: 1em;\n",
              "  padding-left: 1em;\n",
              "}\n",
              "\n",
              "\n",
              "/* Toggleable style: style used for estimator/Pipeline/ColumnTransformer box that is\n",
              "clickable and can be expanded/collapsed.\n",
              "- Pipeline and ColumnTransformer use this feature and define the default style\n",
              "- Estimators will overwrite some part of the style using the `sk-estimator` class\n",
              "*/\n",
              "\n",
              "/* Pipeline and ColumnTransformer style (default) */\n",
              "\n",
              "#sk-container-id-2 div.sk-toggleable {\n",
              "  /* Default theme specific background. It is overwritten whether we have a\n",
              "  specific estimator or a Pipeline/ColumnTransformer */\n",
              "  background-color: var(--sklearn-color-background);\n",
              "}\n",
              "\n",
              "/* Toggleable label */\n",
              "#sk-container-id-2 label.sk-toggleable__label {\n",
              "  cursor: pointer;\n",
              "  display: flex;\n",
              "  width: 100%;\n",
              "  margin-bottom: 0;\n",
              "  padding: 0.5em;\n",
              "  box-sizing: border-box;\n",
              "  text-align: center;\n",
              "  align-items: start;\n",
              "  justify-content: space-between;\n",
              "  gap: 0.5em;\n",
              "}\n",
              "\n",
              "#sk-container-id-2 label.sk-toggleable__label .caption {\n",
              "  font-size: 0.6rem;\n",
              "  font-weight: lighter;\n",
              "  color: var(--sklearn-color-text-muted);\n",
              "}\n",
              "\n",
              "#sk-container-id-2 label.sk-toggleable__label-arrow:before {\n",
              "  /* Arrow on the left of the label */\n",
              "  content: \"▸\";\n",
              "  float: left;\n",
              "  margin-right: 0.25em;\n",
              "  color: var(--sklearn-color-icon);\n",
              "}\n",
              "\n",
              "#sk-container-id-2 label.sk-toggleable__label-arrow:hover:before {\n",
              "  color: var(--sklearn-color-text);\n",
              "}\n",
              "\n",
              "/* Toggleable content - dropdown */\n",
              "\n",
              "#sk-container-id-2 div.sk-toggleable__content {\n",
              "  max-height: 0;\n",
              "  max-width: 0;\n",
              "  overflow: hidden;\n",
              "  text-align: left;\n",
              "  /* unfitted */\n",
              "  background-color: var(--sklearn-color-unfitted-level-0);\n",
              "}\n",
              "\n",
              "#sk-container-id-2 div.sk-toggleable__content.fitted {\n",
              "  /* fitted */\n",
              "  background-color: var(--sklearn-color-fitted-level-0);\n",
              "}\n",
              "\n",
              "#sk-container-id-2 div.sk-toggleable__content pre {\n",
              "  margin: 0.2em;\n",
              "  border-radius: 0.25em;\n",
              "  color: var(--sklearn-color-text);\n",
              "  /* unfitted */\n",
              "  background-color: var(--sklearn-color-unfitted-level-0);\n",
              "}\n",
              "\n",
              "#sk-container-id-2 div.sk-toggleable__content.fitted pre {\n",
              "  /* unfitted */\n",
              "  background-color: var(--sklearn-color-fitted-level-0);\n",
              "}\n",
              "\n",
              "#sk-container-id-2 input.sk-toggleable__control:checked~div.sk-toggleable__content {\n",
              "  /* Expand drop-down */\n",
              "  max-height: 200px;\n",
              "  max-width: 100%;\n",
              "  overflow: auto;\n",
              "}\n",
              "\n",
              "#sk-container-id-2 input.sk-toggleable__control:checked~label.sk-toggleable__label-arrow:before {\n",
              "  content: \"▾\";\n",
              "}\n",
              "\n",
              "/* Pipeline/ColumnTransformer-specific style */\n",
              "\n",
              "#sk-container-id-2 div.sk-label input.sk-toggleable__control:checked~label.sk-toggleable__label {\n",
              "  color: var(--sklearn-color-text);\n",
              "  background-color: var(--sklearn-color-unfitted-level-2);\n",
              "}\n",
              "\n",
              "#sk-container-id-2 div.sk-label.fitted input.sk-toggleable__control:checked~label.sk-toggleable__label {\n",
              "  background-color: var(--sklearn-color-fitted-level-2);\n",
              "}\n",
              "\n",
              "/* Estimator-specific style */\n",
              "\n",
              "/* Colorize estimator box */\n",
              "#sk-container-id-2 div.sk-estimator input.sk-toggleable__control:checked~label.sk-toggleable__label {\n",
              "  /* unfitted */\n",
              "  background-color: var(--sklearn-color-unfitted-level-2);\n",
              "}\n",
              "\n",
              "#sk-container-id-2 div.sk-estimator.fitted input.sk-toggleable__control:checked~label.sk-toggleable__label {\n",
              "  /* fitted */\n",
              "  background-color: var(--sklearn-color-fitted-level-2);\n",
              "}\n",
              "\n",
              "#sk-container-id-2 div.sk-label label.sk-toggleable__label,\n",
              "#sk-container-id-2 div.sk-label label {\n",
              "  /* The background is the default theme color */\n",
              "  color: var(--sklearn-color-text-on-default-background);\n",
              "}\n",
              "\n",
              "/* On hover, darken the color of the background */\n",
              "#sk-container-id-2 div.sk-label:hover label.sk-toggleable__label {\n",
              "  color: var(--sklearn-color-text);\n",
              "  background-color: var(--sklearn-color-unfitted-level-2);\n",
              "}\n",
              "\n",
              "/* Label box, darken color on hover, fitted */\n",
              "#sk-container-id-2 div.sk-label.fitted:hover label.sk-toggleable__label.fitted {\n",
              "  color: var(--sklearn-color-text);\n",
              "  background-color: var(--sklearn-color-fitted-level-2);\n",
              "}\n",
              "\n",
              "/* Estimator label */\n",
              "\n",
              "#sk-container-id-2 div.sk-label label {\n",
              "  font-family: monospace;\n",
              "  font-weight: bold;\n",
              "  display: inline-block;\n",
              "  line-height: 1.2em;\n",
              "}\n",
              "\n",
              "#sk-container-id-2 div.sk-label-container {\n",
              "  text-align: center;\n",
              "}\n",
              "\n",
              "/* Estimator-specific */\n",
              "#sk-container-id-2 div.sk-estimator {\n",
              "  font-family: monospace;\n",
              "  border: 1px dotted var(--sklearn-color-border-box);\n",
              "  border-radius: 0.25em;\n",
              "  box-sizing: border-box;\n",
              "  margin-bottom: 0.5em;\n",
              "  /* unfitted */\n",
              "  background-color: var(--sklearn-color-unfitted-level-0);\n",
              "}\n",
              "\n",
              "#sk-container-id-2 div.sk-estimator.fitted {\n",
              "  /* fitted */\n",
              "  background-color: var(--sklearn-color-fitted-level-0);\n",
              "}\n",
              "\n",
              "/* on hover */\n",
              "#sk-container-id-2 div.sk-estimator:hover {\n",
              "  /* unfitted */\n",
              "  background-color: var(--sklearn-color-unfitted-level-2);\n",
              "}\n",
              "\n",
              "#sk-container-id-2 div.sk-estimator.fitted:hover {\n",
              "  /* fitted */\n",
              "  background-color: var(--sklearn-color-fitted-level-2);\n",
              "}\n",
              "\n",
              "/* Specification for estimator info (e.g. \"i\" and \"?\") */\n",
              "\n",
              "/* Common style for \"i\" and \"?\" */\n",
              "\n",
              ".sk-estimator-doc-link,\n",
              "a:link.sk-estimator-doc-link,\n",
              "a:visited.sk-estimator-doc-link {\n",
              "  float: right;\n",
              "  font-size: smaller;\n",
              "  line-height: 1em;\n",
              "  font-family: monospace;\n",
              "  background-color: var(--sklearn-color-background);\n",
              "  border-radius: 1em;\n",
              "  height: 1em;\n",
              "  width: 1em;\n",
              "  text-decoration: none !important;\n",
              "  margin-left: 0.5em;\n",
              "  text-align: center;\n",
              "  /* unfitted */\n",
              "  border: var(--sklearn-color-unfitted-level-1) 1pt solid;\n",
              "  color: var(--sklearn-color-unfitted-level-1);\n",
              "}\n",
              "\n",
              ".sk-estimator-doc-link.fitted,\n",
              "a:link.sk-estimator-doc-link.fitted,\n",
              "a:visited.sk-estimator-doc-link.fitted {\n",
              "  /* fitted */\n",
              "  border: var(--sklearn-color-fitted-level-1) 1pt solid;\n",
              "  color: var(--sklearn-color-fitted-level-1);\n",
              "}\n",
              "\n",
              "/* On hover */\n",
              "div.sk-estimator:hover .sk-estimator-doc-link:hover,\n",
              ".sk-estimator-doc-link:hover,\n",
              "div.sk-label-container:hover .sk-estimator-doc-link:hover,\n",
              ".sk-estimator-doc-link:hover {\n",
              "  /* unfitted */\n",
              "  background-color: var(--sklearn-color-unfitted-level-3);\n",
              "  color: var(--sklearn-color-background);\n",
              "  text-decoration: none;\n",
              "}\n",
              "\n",
              "div.sk-estimator.fitted:hover .sk-estimator-doc-link.fitted:hover,\n",
              ".sk-estimator-doc-link.fitted:hover,\n",
              "div.sk-label-container:hover .sk-estimator-doc-link.fitted:hover,\n",
              ".sk-estimator-doc-link.fitted:hover {\n",
              "  /* fitted */\n",
              "  background-color: var(--sklearn-color-fitted-level-3);\n",
              "  color: var(--sklearn-color-background);\n",
              "  text-decoration: none;\n",
              "}\n",
              "\n",
              "/* Span, style for the box shown on hovering the info icon */\n",
              ".sk-estimator-doc-link span {\n",
              "  display: none;\n",
              "  z-index: 9999;\n",
              "  position: relative;\n",
              "  font-weight: normal;\n",
              "  right: .2ex;\n",
              "  padding: .5ex;\n",
              "  margin: .5ex;\n",
              "  width: min-content;\n",
              "  min-width: 20ex;\n",
              "  max-width: 50ex;\n",
              "  color: var(--sklearn-color-text);\n",
              "  box-shadow: 2pt 2pt 4pt #999;\n",
              "  /* unfitted */\n",
              "  background: var(--sklearn-color-unfitted-level-0);\n",
              "  border: .5pt solid var(--sklearn-color-unfitted-level-3);\n",
              "}\n",
              "\n",
              ".sk-estimator-doc-link.fitted span {\n",
              "  /* fitted */\n",
              "  background: var(--sklearn-color-fitted-level-0);\n",
              "  border: var(--sklearn-color-fitted-level-3);\n",
              "}\n",
              "\n",
              ".sk-estimator-doc-link:hover span {\n",
              "  display: block;\n",
              "}\n",
              "\n",
              "/* \"?\"-specific style due to the `<a>` HTML tag */\n",
              "\n",
              "#sk-container-id-2 a.estimator_doc_link {\n",
              "  float: right;\n",
              "  font-size: 1rem;\n",
              "  line-height: 1em;\n",
              "  font-family: monospace;\n",
              "  background-color: var(--sklearn-color-background);\n",
              "  border-radius: 1rem;\n",
              "  height: 1rem;\n",
              "  width: 1rem;\n",
              "  text-decoration: none;\n",
              "  /* unfitted */\n",
              "  color: var(--sklearn-color-unfitted-level-1);\n",
              "  border: var(--sklearn-color-unfitted-level-1) 1pt solid;\n",
              "}\n",
              "\n",
              "#sk-container-id-2 a.estimator_doc_link.fitted {\n",
              "  /* fitted */\n",
              "  border: var(--sklearn-color-fitted-level-1) 1pt solid;\n",
              "  color: var(--sklearn-color-fitted-level-1);\n",
              "}\n",
              "\n",
              "/* On hover */\n",
              "#sk-container-id-2 a.estimator_doc_link:hover {\n",
              "  /* unfitted */\n",
              "  background-color: var(--sklearn-color-unfitted-level-3);\n",
              "  color: var(--sklearn-color-background);\n",
              "  text-decoration: none;\n",
              "}\n",
              "\n",
              "#sk-container-id-2 a.estimator_doc_link.fitted:hover {\n",
              "  /* fitted */\n",
              "  background-color: var(--sklearn-color-fitted-level-3);\n",
              "}\n",
              "</style><div id=\"sk-container-id-2\" class=\"sk-top-container\"><div class=\"sk-text-repr-fallback\"><pre>LinearRegression()</pre><b>In a Jupyter environment, please rerun this cell to show the HTML representation or trust the notebook. <br />On GitHub, the HTML representation is unable to render, please try loading this page with nbviewer.org.</b></div><div class=\"sk-container\" hidden><div class=\"sk-item\"><div class=\"sk-estimator fitted sk-toggleable\"><input class=\"sk-toggleable__control sk-hidden--visually\" id=\"sk-estimator-id-2\" type=\"checkbox\" checked><label for=\"sk-estimator-id-2\" class=\"sk-toggleable__label fitted sk-toggleable__label-arrow\"><div><div>LinearRegression</div></div><div><a class=\"sk-estimator-doc-link fitted\" rel=\"noreferrer\" target=\"_blank\" href=\"https://scikit-learn.org/1.6/modules/generated/sklearn.linear_model.LinearRegression.html\">?<span>Documentation for LinearRegression</span></a><span class=\"sk-estimator-doc-link fitted\">i<span>Fitted</span></span></div></label><div class=\"sk-toggleable__content fitted\"><pre>LinearRegression()</pre></div> </div></div></div></div>"
            ]
          },
          "metadata": {},
          "execution_count": 46
        }
      ]
    },
    {
      "cell_type": "code",
      "source": [
        "import pandas as pd\n",
        "\n",
        "def predict_costs(model_exp, model_prem, customer_input_dict):\n",
        "    # Convert dictionary to DataFrame\n",
        "    input_df = pd.DataFrame([customer_input_dict])\n",
        "\n",
        "    # Reindex to match training features\n",
        "    input_df = input_df.reindex(columns=X.columns, fill_value=0)\n",
        "\n",
        "    # Predict\n",
        "    predicted_exp = model_exp.predict(input_df)[0]\n",
        "    predicted_prem = model_prem.predict(input_df)[0]\n",
        "\n",
        "    print(\"📊 Prediction for New Customer:\")\n",
        "    print(f\"Estimated Medical Expenses: ${predicted_exp:.2f}\")\n",
        "    print(f\"Estimated Insurance Premium: ${predicted_prem:.2f}\")"
      ],
      "metadata": {
        "id": "RcexZIPQMlr1"
      },
      "execution_count": 47,
      "outputs": []
    },
    {
      "cell_type": "code",
      "source": [
        "new_customer = {\n",
        "    'age': 40,\n",
        "    'gender': 1,\n",
        "    'bmi': 29.5,\n",
        "    'children': 2,\n",
        "    'discount_eligibility': 1,\n",
        "    'region_northwest': False,\n",
        "    'region_southeast': False,\n",
        "    'region_southwest': True,\n",
        "    'bmi_cat_underweight': False,\n",
        "    'bmi_cat_normal': False,\n",
        "    'bmi_cat_overweight': True,\n",
        "    'bmi_cat_obese': False\n",
        "}"
      ],
      "metadata": {
        "id": "M9vIhfIJNrXJ"
      },
      "execution_count": 48,
      "outputs": []
    },
    {
      "cell_type": "code",
      "source": [
        "print(X.columns.tolist())\n"
      ],
      "metadata": {
        "colab": {
          "base_uri": "https://localhost:8080/"
        },
        "id": "Rn17t1G1Opx9",
        "outputId": "b1c5c249-244e-449c-b6a6-68a49e55856b"
      },
      "execution_count": 49,
      "outputs": [
        {
          "output_type": "stream",
          "name": "stdout",
          "text": [
            "['age', 'gender', 'bmi', 'children', 'discount_eligibility', 'region_northwest', 'region_southeast', 'region_southwest', 'bmi_cat_underweight', 'bmi_cat_normal', 'bmi_cat_overweight', 'bmi_cat_obese']\n"
          ]
        }
      ]
    },
    {
      "cell_type": "code",
      "source": [
        "predict_costs(final_rf_exp, final_rf_prem, new_customer)\n"
      ],
      "metadata": {
        "colab": {
          "base_uri": "https://localhost:8080/"
        },
        "id": "D3ng4kamN4_X",
        "outputId": "6f9cfcf5-eb83-4155-9fdc-2a12026192d3"
      },
      "execution_count": 50,
      "outputs": [
        {
          "output_type": "stream",
          "name": "stdout",
          "text": [
            "📊 Prediction for New Customer:\n",
            "Estimated Medical Expenses: $27437.96\n",
            "Estimated Insurance Premium: $480.52\n"
          ]
        }
      ]
    },
    {
      "cell_type": "markdown",
      "source": [
        "✅ Final Model: Two separate Linear Regression models were trained to predict expenses_capped and premium_capped using preprocessed demographic and health data.\n",
        "\n",
        "✅ Prediction Interface: A custom function accepts new customer data (with correctly encoded features) and returns real-time cost and premium estimates."
      ],
      "metadata": {
        "id": "mAnqyQLrPOP-"
      }
    }
  ]
}